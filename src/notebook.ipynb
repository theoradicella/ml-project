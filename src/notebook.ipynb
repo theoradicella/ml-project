{
 "cells": [
  {
   "cell_type": "markdown",
   "metadata": {},
   "source": [
    "# 💾 UCI Adult Dataset - Machine Learning Project\n"
   ]
  },
  {
   "cell_type": "markdown",
   "metadata": {},
   "source": [
    "## Introduction"
   ]
  },
  {
   "cell_type": "markdown",
   "metadata": {},
   "source": [
    "This machine learning project, conducted under the guidance of Professor Matteo Zignani from Università degli Studi di Milano, focuses on a supervised binary classification task using the Adult dataset. The dataset, originally from the [UCI Machine Learning Repository](https://archive.ics.uci.edu/dataset/2/adult) is typically provided pre-split into training and test sets. To simulate and have greater control over the data splitting process, I used a [version of the dataset available on Kaggle](https://www.kaggle.com/datasets/wenruliu/adult-income-dataset), which provides the data in a single, unsplit format. This approach allowed me to perform my own train-test split.\n",
    "\n",
    "The goal of the project is to classify whether an individual earns more than $50,000 per year by leveraging preprocessing techniques and classification models to uncover patterns and relationships within the data, ultimately building an accurate predictive model.\n",
    "\n",
    "ChatGPT was used as a supplementary tool to clarify concepts and assist with some implementation questions during the project."
   ]
  },
  {
   "cell_type": "markdown",
   "metadata": {},
   "source": [
    "### Imports"
   ]
  },
  {
   "cell_type": "code",
   "execution_count": 1,
   "metadata": {},
   "outputs": [],
   "source": [
    "# Base\n",
    "import pandas as pd\n",
    "import numpy as np\n",
    "import matplotlib.pyplot as plt\n",
    "import itertools\n",
    "\n",
    "# Preprocessing\n",
    "from sklearn.pipeline import Pipeline\n",
    "from sklearn.impute import SimpleImputer\n",
    "from sklearn.base import BaseEstimator, TransformerMixin\n",
    "from sklearn.preprocessing import FunctionTransformer, OneHotEncoder, MinMaxScaler, StandardScaler, LabelBinarizer\n",
    "from sklearn.compose import ColumnTransformer\n",
    "from mlxtend.feature_selection import SequentialFeatureSelector as SFS\n",
    "from sklearn.decomposition import PCA\n",
    "\n",
    "# Model selection\n",
    "from sklearn.model_selection import learning_curve, validation_curve, train_test_split, cross_validate, RandomizedSearchCV, RepeatedStratifiedKFold, StratifiedKFold\n",
    "from sklearn.linear_model import Perceptron, LogisticRegression\n",
    "from sklearn.neighbors import KNeighborsClassifier\n",
    "from sklearn.ensemble import GradientBoostingClassifier\n",
    "from sklearn.metrics import ConfusionMatrixDisplay, f1_score, accuracy_score, precision_score, roc_auc_score, roc_curve, precision_recall_curve, auc, classification_report\n",
    "from imblearn.pipeline import Pipeline as IMBPipeline\n",
    "from imblearn.over_sampling import SMOTE, RandomOverSampler\n",
    "from scipy.stats import uniform\n",
    "from scipy.stats import loguniform, uniform"
   ]
  },
  {
   "cell_type": "markdown",
   "metadata": {},
   "source": [
    "### Utils"
   ]
  },
  {
   "cell_type": "markdown",
   "metadata": {},
   "source": [
    "Originally, I had all of the custom functions, constants and model configurations as separate files under a folder called `utils`. However, given the deliverable is only the Jupyter Notebook file, I had to move them all here, so I will dedicate this section to define them all."
   ]
  },
  {
   "cell_type": "markdown",
   "metadata": {},
   "source": [
    "#### Custom Functions"
   ]
  },
  {
   "cell_type": "code",
   "execution_count": 2,
   "metadata": {},
   "outputs": [],
   "source": [
    "def plot_learning_curve(\n",
    "    estimator, X, y, ax, title=\"Learning Curve\", cv=5, scoring=\"f1\"\n",
    "):\n",
    "    \"\"\"\n",
    "    Plots a learning curve.\n",
    "\n",
    "    Parameters:\n",
    "        estimator: The model to evaluate.\n",
    "        X: Feature set.\n",
    "        y: Target labels.\n",
    "        ax: Matplotlib axis to plot on.\n",
    "        title: Title for the plot.\n",
    "        cv: Number of cross-validation folds.\n",
    "        scoring: Scoring metric for evaluation.\n",
    "    \"\"\"\n",
    "    train_sizes, train_scores, test_scores = learning_curve(\n",
    "        estimator, X, y, train_sizes=[0.01, 0.1, 0.2, 0.3, 0.4, 0.5, 0.6, 0.7, 0.8, 0.9, 1.0], cv=cv, scoring=scoring\n",
    "    )\n",
    "\n",
    "    # Calculate mean and standard deviation\n",
    "    train_mean = np.mean(train_scores, axis=1)\n",
    "    test_mean = np.mean(test_scores, axis=1)\n",
    "\n",
    "    # Plot learning curve\n",
    "    ax.plot(train_sizes, train_mean, label=\"Training Score\", color=\"blue\")\n",
    "    ax.plot(train_sizes, test_mean, label=\"Testing Score\", color=\"orange\")\n",
    "\n",
    "    # Add labels and title\n",
    "    ax.set_title(title)\n",
    "    ax.set_xlabel(\"Training Set Size\")\n",
    "    ax.set_ylabel(\"F1 Score\")\n",
    "    ax.legend(loc=\"lower right\")\n",
    "    ax.grid(alpha=0.3)\n",
    "\n",
    "\n",
    "def plot_roc_auc(y_test, y_prob, title=\"ROC Curve\", ax=None):\n",
    "    \"\"\"\n",
    "    Plots the ROC Curve and displays the AUC score.\n",
    "\n",
    "    Parameters:\n",
    "        y_test: Array-like, true labels for the test set.\n",
    "        y_prob: Array-like, predicted probabilities for the positive class.\n",
    "        title: Title for the plot.\n",
    "        ax: Matplotlib axis to plot on (optional).\n",
    "    \"\"\"\n",
    "    fpr, tpr, _ = roc_curve(y_test, y_prob)\n",
    "    auc_score = roc_auc_score(y_test, y_prob)\n",
    "\n",
    "    if ax is None:\n",
    "        ax = plt.gca()  # Use the current axis if none is provided\n",
    "    ax.plot(fpr, tpr, label=f\"AUC = {auc_score:.2f}\")\n",
    "    ax.plot([0, 1], [0, 1], linestyle=\"--\", color=\"gray\")  # Random classifier line\n",
    "    ax.set_xlabel(\"False Positive Rate\")\n",
    "    ax.set_ylabel(\"True Positive Rate\")\n",
    "    ax.set_title(title)\n",
    "    ax.legend(loc=\"lower right\")\n",
    "    ax.grid(alpha=0.3)\n",
    "\n",
    "\n",
    "def plot_precision_recall(y_test, y_prob, title=\"Precision-Recall Curve\", ax=None):\n",
    "    \"\"\"\n",
    "    Plots the Precision-Recall Curve and displays the AUC-PR score, along with a bisector line (m = -1).\n",
    "\n",
    "    Parameters:\n",
    "        y_test: Array-like, true labels for the test set.\n",
    "        y_prob: Array-like, predicted probabilities for the positive class.\n",
    "        title: Title for the plot.\n",
    "        ax: Matplotlib axis to plot on (optional).\n",
    "    \"\"\"\n",
    "    precision, recall, _ = precision_recall_curve(y_test, y_prob)\n",
    "    auc_pr = auc(recall, precision)  # Calculate AUC-PR\n",
    "\n",
    "    if ax is None:\n",
    "        ax = plt.gca()  # Use the current axis if none is provided\n",
    "    ax.plot(recall, precision, label=f\"AUC = {auc_pr:.2f}\")\n",
    "    ax.plot([0, 1], [1, 0], linestyle=\"--\", color=\"gray\")\n",
    "    ax.set_xlabel(\"Recall\")\n",
    "    ax.set_ylabel(\"Precision\")\n",
    "    ax.set_title(title)\n",
    "    ax.legend(loc=\"lower left\")\n",
    "    ax.grid(alpha=0.3)\n",
    "\n",
    "\n",
    "def plot_validation_curve(\n",
    "    estimator,\n",
    "    X,\n",
    "    y,\n",
    "    param_name,\n",
    "    param_range,\n",
    "    cv,\n",
    "    scoring,\n",
    "    ax=None,\n",
    "    title=\"Validation Curve\",\n",
    "):\n",
    "    \"\"\"\n",
    "    Plots the validation curve for a given estimator and hyperparameter on a specified axis.\n",
    "\n",
    "    Parameters:\n",
    "        estimator: The model to evaluate (e.g., GradientBoostingClassifier).\n",
    "        X: Training data (features).\n",
    "        y: Training data (labels).\n",
    "        param_name: Name of the hyperparameter to vary (e.g., \"n_estimators\").\n",
    "        param_range: Range of values for the hyperparameter.\n",
    "        cv: Cross-validation splitting strategy.\n",
    "        scoring: Scoring metric to evaluate the model (e.g., \"f1\").\n",
    "        ax: Matplotlib axis to plot on (optional).\n",
    "        title: Title for the plot.\n",
    "    \"\"\"\n",
    "    train_scores, test_scores = validation_curve(\n",
    "        estimator,\n",
    "        X,\n",
    "        y,\n",
    "        param_name=param_name,\n",
    "        param_range=param_range,\n",
    "        cv=cv,\n",
    "        scoring=scoring,\n",
    "        n_jobs=-1,\n",
    "    )\n",
    "\n",
    "    # Calculate mean and standard deviation\n",
    "    train_mean = np.mean(train_scores, axis=1)\n",
    "    train_std = np.std(train_scores, axis=1)\n",
    "    test_mean = np.mean(test_scores, axis=1)\n",
    "    test_std = np.std(test_scores, axis=1)\n",
    "\n",
    "    # Use provided axis or create one\n",
    "    if ax is None:\n",
    "        ax = plt.gca()\n",
    "\n",
    "    # Plot the validation curve\n",
    "    ax.plot(param_range, train_mean, label=\"Training Score\", color=\"blue\")\n",
    "    ax.plot(param_range, test_mean, label=\"Validation Score\", color=\"orange\")\n",
    "    ax.fill_between(\n",
    "        param_range,\n",
    "        train_mean - train_std,\n",
    "        train_mean + train_std,\n",
    "        alpha=0.2,\n",
    "        color=\"blue\",\n",
    "    )\n",
    "    ax.fill_between(\n",
    "        param_range,\n",
    "        test_mean - test_std,\n",
    "        test_mean + test_std,\n",
    "        alpha=0.2,\n",
    "        color=\"orange\",\n",
    "    )\n",
    "\n",
    "    # Add labels, title, and legend\n",
    "    ax.set_title(title)\n",
    "    ax.set_xlabel(param_name)\n",
    "    ax.set_ylabel(scoring)\n",
    "    ax.legend(loc=\"best\")\n",
    "    ax.grid(alpha=0.3)\n",
    "\n",
    "\n",
    "def plot_category_target_count(df, column_name, target_column='income', target_value='>50K'):\n",
    "    \"\"\"\n",
    "    Plots the count of rows for each category in a given column where the target equals the target_value.\n",
    "    Basically to understand which values for each feature are more likely to be associated with the target value being >50k\n",
    "    \n",
    "    Parameters:\n",
    "    - df: pandas DataFrame\n",
    "    - column_name: The name of the column to analyze (categorical feature).\n",
    "    - target_column: The name of the target column.\n",
    "    - target_value: The target value to filter on (default is 1).\n",
    "    \"\"\"\n",
    "    if column_name not in df.columns:\n",
    "        print(f\"Column '{column_name}' does not exist in the dataset.\")\n",
    "        return\n",
    "\n",
    "    # Filter rows where target equals the target_value\n",
    "    filtered_df = df[df[target_column] == target_value]\n",
    "    \n",
    "    # Group by the column and count rows, then sort by the index (x-axis)\n",
    "    category_counts = (\n",
    "        filtered_df.groupby(column_name)\n",
    "        .size()\n",
    "        .sort_index()  # Sort by index \n",
    "    )\n",
    "    \n",
    "    # Plot the results\n",
    "    plt.figure(figsize=(10, 6))\n",
    "    category_counts.plot(kind=\"bar\", color=\"cornflowerblue\")\n",
    "    plt.title(f\"Count of Rows by {column_name} where {target_column} = {target_value}\")\n",
    "    plt.ylabel(\"Count of Rows\")\n",
    "    plt.xlabel(column_name)\n",
    "    plt.xticks(rotation=45, ha=\"right\")\n",
    "    plt.tight_layout()\n",
    "    plt.show()"
   ]
  },
  {
   "cell_type": "markdown",
   "metadata": {},
   "source": [
    "#### Constants"
   ]
  },
  {
   "cell_type": "code",
   "execution_count": 3,
   "metadata": {},
   "outputs": [],
   "source": [
    "country_mapping = mapping = {\n",
    "    # North America\n",
    "    \"United-States\": \"North America\",\n",
    "    \"Canada\": \"North America\",\n",
    "    \"Mexico\": \"North America\",\n",
    "    \"Puerto-Rico\": \"North America\",\n",
    "    \"Cuba\": \"North America\",\n",
    "    \"Jamaica\": \"North America\",\n",
    "    \"Dominican-Republic\": \"North America\",\n",
    "    \"Honduras\": \"North America\",\n",
    "    \"Guatemala\": \"North America\",\n",
    "    \"El-Salvador\": \"North America\",\n",
    "    \"Nicaragua\": \"North America\",\n",
    "    \"Haiti\": \"North America\",\n",
    "    # Europe\n",
    "    \"England\": \"Europe\",\n",
    "    \"Germany\": \"Europe\",\n",
    "    \"Italy\": \"Europe\",\n",
    "    \"Poland\": \"Europe\",\n",
    "    \"Portugal\": \"Europe\",\n",
    "    \"France\": \"Europe\",\n",
    "    \"Ireland\": \"Europe\",\n",
    "    \"Scotland\": \"Europe\",\n",
    "    # Asia\n",
    "    \"Philippines\": \"Asia\",\n",
    "    \"India\": \"Asia\",\n",
    "    \"China\": \"Asia\",\n",
    "    \"Vietnam\": \"Asia\",\n",
    "    \"Japan\": \"Asia\",\n",
    "    \"Iran\": \"Asia\",\n",
    "    \"Taiwan\": \"Asia\",\n",
    "    \"Hong\": \"Asia\",\n",
    "    \"Thailand\": \"Asia\",\n",
    "    \"Laos\": \"Asia\",\n",
    "    # South America\n",
    "    \"Columbia\": \"South America\",\n",
    "    \"Ecuador\": \"South America\",\n",
    "    \"Peru\": \"South America\",\n",
    "    \"South\": \"South America\",\n",
    "    \"Brazil\": \"South America\",\n",
    "    # Other\n",
    "    \"Other\": \"Other\",\n",
    "}"
   ]
  },
  {
   "cell_type": "markdown",
   "metadata": {},
   "source": [
    "#### Configurations"
   ]
  },
  {
   "cell_type": "code",
   "execution_count": 4,
   "metadata": {},
   "outputs": [],
   "source": [
    "# Sampler configurations\n",
    "sampler_configs = [\n",
    "    {\"sampler\": [None]},\n",
    "    # The floats in the strategies are the ratios of the minority class over the majority class\n",
    "    {\n",
    "        \"sampler\": [SMOTE()],  # KNN for oversampling\n",
    "        \"sampler__sampling_strategy\": [0.5, 0.8, 1.0],\n",
    "    },\n",
    "    {\n",
    "        \"sampler\": [RandomOverSampler()],  # Random oversampling by duplicating existing\n",
    "        \"sampler__sampling_strategy\": [0.5, 0.8, 1.0],\n",
    "    },\n",
    "]\n",
    "\n",
    "# Dimensionality reduction configurations\n",
    "dim_reduction_configs = [\n",
    "    {\"dim_reduction\": [None]},  # Bypass dimensionality reduction\n",
    "    # Since 0 < n_components < 1, it represents the variance (deviation from the mean) for PCA\n",
    "    {\"dim_reduction\": [PCA()], \"dim_reduction__n_components\": [0.5, 0.8, 0.9]},\n",
    "    # {\"dim_reduction\": [LDA()]},  # LDA is not compatible with the dataset (negative values when scaled)\n",
    "    {\n",
    "        # SFS starts with empty set of features and adds one by one\n",
    "        # At each step it trains the model with the rest of the features and selects the best\n",
    "        \"dim_reduction\": [SFS(estimator=Perceptron(), cv=None, scoring=\"f1\")],\n",
    "        \"dim_reduction__estimator\": [Perceptron(), LogisticRegression()],\n",
    "        \"dim_reduction__k_features\": [3, 7, 15],  # Number of features to maintain\n",
    "    },\n",
    "]\n",
    "\n",
    "# Classifier configurations\n",
    "classifier_configs = [\n",
    "    {\n",
    "        \"classifier\": [Perceptron()],\n",
    "        \"classifier__max_iter\": [100, 200],\n",
    "        # loguniform is used to sample mostly small values but also a few large values\n",
    "        # This is useful for hyperparameters that are usually small but can be large\n",
    "        \"classifier__eta0\": loguniform(0.001, 10),\n",
    "        # Handles potential class imbalances through weights\n",
    "        \"classifier__class_weight\": [None, \"balanced\"],\n",
    "    },\n",
    "    {\n",
    "        \"classifier\": [LogisticRegression(solver=\"lbfgs\")],\n",
    "        \"classifier__max_iter\": [700, 750],\n",
    "        \"classifier__C\": uniform(1, 10),\n",
    "        \"classifier__penalty\": [\"l2\"],  # Only L2 for lbfgs\n",
    "        \"classifier__class_weight\": [None, \"balanced\"],\n",
    "    },\n",
    "    {\n",
    "        \"classifier\": [KNeighborsClassifier()],\n",
    "        \"classifier__n_neighbors\": [\n",
    "            10,\n",
    "            30,\n",
    "            45,\n",
    "            75,\n",
    "        ],\n",
    "        \"classifier__weights\": [\"uniform\", \"distance\"],\n",
    "\n",
    "    },\n",
    "    {\n",
    "        # This model outperforms the rest, it also takes a lot of time on the cv making the development of the project very slow.\n",
    "        \"classifier\": [GradientBoostingClassifier(warm_start=True)],\n",
    "        \"classifier__n_estimators\": [300],  # Number of trees\n",
    "        \"classifier__max_depth\": [5],  # Maximum depth of each tree\n",
    "    },\n",
    "]"
   ]
  },
  {
   "cell_type": "markdown",
   "metadata": {},
   "source": [
    "## Analyze the data"
   ]
  },
  {
   "cell_type": "markdown",
   "metadata": {},
   "source": [
    "Let's load the dataset into a Pandas dataframe and look more into detail the different columns we have."
   ]
  },
  {
   "cell_type": "code",
   "execution_count": 5,
   "metadata": {},
   "outputs": [
    {
     "data": {
      "text/plain": [
       "(48842, 15)"
      ]
     },
     "execution_count": 5,
     "metadata": {},
     "output_type": "execute_result"
    }
   ],
   "source": [
    "df = pd.read_csv(\"../data/adult.csv\", header=0, skipinitialspace=True, na_values=\"?\")\n",
    "df.shape # (rows, columns)"
   ]
  },
  {
   "cell_type": "code",
   "execution_count": 6,
   "metadata": {},
   "outputs": [
    {
     "name": "stdout",
     "output_type": "stream",
     "text": [
      "<class 'pandas.core.frame.DataFrame'>\n",
      "RangeIndex: 48842 entries, 0 to 48841\n",
      "Data columns (total 15 columns):\n",
      " #   Column           Non-Null Count  Dtype \n",
      "---  ------           --------------  ----- \n",
      " 0   age              48842 non-null  int64 \n",
      " 1   workclass        46043 non-null  object\n",
      " 2   fnlwgt           48842 non-null  int64 \n",
      " 3   education        48842 non-null  object\n",
      " 4   educational-num  48842 non-null  int64 \n",
      " 5   marital-status   48842 non-null  object\n",
      " 6   occupation       46033 non-null  object\n",
      " 7   relationship     48842 non-null  object\n",
      " 8   race             48842 non-null  object\n",
      " 9   gender           48842 non-null  object\n",
      " 10  capital-gain     48842 non-null  int64 \n",
      " 11  capital-loss     48842 non-null  int64 \n",
      " 12  hours-per-week   48842 non-null  int64 \n",
      " 13  native-country   47985 non-null  object\n",
      " 14  income           48842 non-null  object\n",
      "dtypes: int64(6), object(9)\n",
      "memory usage: 5.6+ MB\n"
     ]
    }
   ],
   "source": [
    "df.info()"
   ]
  },
  {
   "cell_type": "markdown",
   "metadata": {},
   "source": [
    "We can see that some columns have null values, let's look into more detail which ones and how many."
   ]
  },
  {
   "cell_type": "code",
   "execution_count": 7,
   "metadata": {},
   "outputs": [
    {
     "data": {
      "text/plain": [
       "age                   0\n",
       "workclass          2799\n",
       "fnlwgt                0\n",
       "education             0\n",
       "educational-num       0\n",
       "marital-status        0\n",
       "occupation         2809\n",
       "relationship          0\n",
       "race                  0\n",
       "gender                0\n",
       "capital-gain          0\n",
       "capital-loss          0\n",
       "hours-per-week        0\n",
       "native-country      857\n",
       "income                0\n",
       "dtype: int64"
      ]
     },
     "execution_count": 7,
     "metadata": {},
     "output_type": "execute_result"
    }
   ],
   "source": [
    "df.isnull().sum()"
   ]
  },
  {
   "cell_type": "markdown",
   "metadata": {},
   "source": [
    "We will need to deal with missing values for the columns `workclass`, `occupation` and `native-country`.\n"
   ]
  },
  {
   "cell_type": "code",
   "execution_count": 8,
   "metadata": {},
   "outputs": [
    {
     "data": {
      "text/html": [
       "<div>\n",
       "<style scoped>\n",
       "    .dataframe tbody tr th:only-of-type {\n",
       "        vertical-align: middle;\n",
       "    }\n",
       "\n",
       "    .dataframe tbody tr th {\n",
       "        vertical-align: top;\n",
       "    }\n",
       "\n",
       "    .dataframe thead th {\n",
       "        text-align: right;\n",
       "    }\n",
       "</style>\n",
       "<table border=\"1\" class=\"dataframe\">\n",
       "  <thead>\n",
       "    <tr style=\"text-align: right;\">\n",
       "      <th></th>\n",
       "      <th>age</th>\n",
       "      <th>workclass</th>\n",
       "      <th>fnlwgt</th>\n",
       "      <th>education</th>\n",
       "      <th>educational-num</th>\n",
       "      <th>marital-status</th>\n",
       "      <th>occupation</th>\n",
       "      <th>relationship</th>\n",
       "      <th>race</th>\n",
       "      <th>gender</th>\n",
       "      <th>capital-gain</th>\n",
       "      <th>capital-loss</th>\n",
       "      <th>hours-per-week</th>\n",
       "      <th>native-country</th>\n",
       "      <th>income</th>\n",
       "    </tr>\n",
       "  </thead>\n",
       "  <tbody>\n",
       "    <tr>\n",
       "      <th>0</th>\n",
       "      <td>25</td>\n",
       "      <td>Private</td>\n",
       "      <td>226802</td>\n",
       "      <td>11th</td>\n",
       "      <td>7</td>\n",
       "      <td>Never-married</td>\n",
       "      <td>Machine-op-inspct</td>\n",
       "      <td>Own-child</td>\n",
       "      <td>Black</td>\n",
       "      <td>Male</td>\n",
       "      <td>0</td>\n",
       "      <td>0</td>\n",
       "      <td>40</td>\n",
       "      <td>United-States</td>\n",
       "      <td>&lt;=50K</td>\n",
       "    </tr>\n",
       "    <tr>\n",
       "      <th>1</th>\n",
       "      <td>38</td>\n",
       "      <td>Private</td>\n",
       "      <td>89814</td>\n",
       "      <td>HS-grad</td>\n",
       "      <td>9</td>\n",
       "      <td>Married-civ-spouse</td>\n",
       "      <td>Farming-fishing</td>\n",
       "      <td>Husband</td>\n",
       "      <td>White</td>\n",
       "      <td>Male</td>\n",
       "      <td>0</td>\n",
       "      <td>0</td>\n",
       "      <td>50</td>\n",
       "      <td>United-States</td>\n",
       "      <td>&lt;=50K</td>\n",
       "    </tr>\n",
       "    <tr>\n",
       "      <th>2</th>\n",
       "      <td>28</td>\n",
       "      <td>Local-gov</td>\n",
       "      <td>336951</td>\n",
       "      <td>Assoc-acdm</td>\n",
       "      <td>12</td>\n",
       "      <td>Married-civ-spouse</td>\n",
       "      <td>Protective-serv</td>\n",
       "      <td>Husband</td>\n",
       "      <td>White</td>\n",
       "      <td>Male</td>\n",
       "      <td>0</td>\n",
       "      <td>0</td>\n",
       "      <td>40</td>\n",
       "      <td>United-States</td>\n",
       "      <td>&gt;50K</td>\n",
       "    </tr>\n",
       "    <tr>\n",
       "      <th>3</th>\n",
       "      <td>44</td>\n",
       "      <td>Private</td>\n",
       "      <td>160323</td>\n",
       "      <td>Some-college</td>\n",
       "      <td>10</td>\n",
       "      <td>Married-civ-spouse</td>\n",
       "      <td>Machine-op-inspct</td>\n",
       "      <td>Husband</td>\n",
       "      <td>Black</td>\n",
       "      <td>Male</td>\n",
       "      <td>7688</td>\n",
       "      <td>0</td>\n",
       "      <td>40</td>\n",
       "      <td>United-States</td>\n",
       "      <td>&gt;50K</td>\n",
       "    </tr>\n",
       "    <tr>\n",
       "      <th>4</th>\n",
       "      <td>18</td>\n",
       "      <td>NaN</td>\n",
       "      <td>103497</td>\n",
       "      <td>Some-college</td>\n",
       "      <td>10</td>\n",
       "      <td>Never-married</td>\n",
       "      <td>NaN</td>\n",
       "      <td>Own-child</td>\n",
       "      <td>White</td>\n",
       "      <td>Female</td>\n",
       "      <td>0</td>\n",
       "      <td>0</td>\n",
       "      <td>30</td>\n",
       "      <td>United-States</td>\n",
       "      <td>&lt;=50K</td>\n",
       "    </tr>\n",
       "  </tbody>\n",
       "</table>\n",
       "</div>"
      ],
      "text/plain": [
       "   age  workclass  fnlwgt     education  educational-num      marital-status  \\\n",
       "0   25    Private  226802          11th                7       Never-married   \n",
       "1   38    Private   89814       HS-grad                9  Married-civ-spouse   \n",
       "2   28  Local-gov  336951    Assoc-acdm               12  Married-civ-spouse   \n",
       "3   44    Private  160323  Some-college               10  Married-civ-spouse   \n",
       "4   18        NaN  103497  Some-college               10       Never-married   \n",
       "\n",
       "          occupation relationship   race  gender  capital-gain  capital-loss  \\\n",
       "0  Machine-op-inspct    Own-child  Black    Male             0             0   \n",
       "1    Farming-fishing      Husband  White    Male             0             0   \n",
       "2    Protective-serv      Husband  White    Male             0             0   \n",
       "3  Machine-op-inspct      Husband  Black    Male          7688             0   \n",
       "4                NaN    Own-child  White  Female             0             0   \n",
       "\n",
       "   hours-per-week native-country income  \n",
       "0              40  United-States  <=50K  \n",
       "1              50  United-States  <=50K  \n",
       "2              40  United-States   >50K  \n",
       "3              40  United-States   >50K  \n",
       "4              30  United-States  <=50K  "
      ]
     },
     "execution_count": 8,
     "metadata": {},
     "output_type": "execute_result"
    }
   ],
   "source": [
    "# Look at some sample rows\n",
    "df.head()"
   ]
  },
  {
   "cell_type": "markdown",
   "metadata": {},
   "source": [
    "Let's use the method `value_counts` to analyze each feature with more detail."
   ]
  },
  {
   "cell_type": "code",
   "execution_count": 9,
   "metadata": {},
   "outputs": [
    {
     "name": "stdout",
     "output_type": "stream",
     "text": [
      "occupation\n",
      "Prof-specialty       6172\n",
      "Craft-repair         6112\n",
      "Exec-managerial      6086\n",
      "Adm-clerical         5611\n",
      "Sales                5504\n",
      "Other-service        4923\n",
      "Machine-op-inspct    3022\n",
      "Transport-moving     2355\n",
      "Handlers-cleaners    2072\n",
      "Farming-fishing      1490\n",
      "Tech-support         1446\n",
      "Protective-serv       983\n",
      "Priv-house-serv       242\n",
      "Armed-Forces           15\n",
      "Name: count, dtype: int64\n"
     ]
    }
   ],
   "source": [
    "# Change 'occupation' for any other feature you'd like to inspect.\n",
    "print(df['occupation'].value_counts())"
   ]
  },
  {
   "cell_type": "markdown",
   "metadata": {},
   "source": [
    "This plot provides a clear visualization of how positive target values (income > $50K) are distributed across the categories of a selected feature (e.g., occupation). You can easily replace `occupation` with any other categorical feature to explore different aspects of the data. Additionally, you can delve deeper into feature relationships by specifying different second and third parameters. For example, using `plot_category_target_count(df, \"race\", \"relationship\", \"husband\")` reveals the number of individuals from each race who are classified as husbands."
   ]
  },
  {
   "cell_type": "code",
   "execution_count": 10,
   "metadata": {},
   "outputs": [
    {
     "data": {
      "image/png": "[encoded data removed]",
      "text/plain": [
       "<Figure size 1000x600 with 1 Axes>"
      ]
     },
     "metadata": {},
     "output_type": "display_data"
    }
   ],
   "source": [
    "plot_category_target_count(df, \"occupation\")"
   ]
  },
  {
   "cell_type": "markdown",
   "metadata": {},
   "source": [
    "## Definition of the Data Transformation Pipeline"
   ]
  },
  {
   "cell_type": "markdown",
   "metadata": {},
   "source": [
    "Here we have a schema of the data transformation pipeline that we want to create. The columns that are not present are going to be dropped.\n",
    "\n",
    "![Data transformatino Pipeline](./images/data-transformation-pipeline.jpg)"
   ]
  },
  {
   "cell_type": "markdown",
   "metadata": {},
   "source": [
    "We drop `education`, since it represents the same as `educational-num` and we also drop `fnlwgt` since it is a feature with no description, and we have no understanding of what it is, it could pottentially contain the target encoded (income).\n",
    "\n",
    "In this project, we utilize four custom transformers to handle specific feature engineering tasks. These transformers ensure that our preprocessing pipeline remains clean, modular, reusable and custom for each feature.\n",
    "\n",
    "Below is an explanation of each custom transformer and their purpose along with the feature pipeline for it."
   ]
  },
  {
   "cell_type": "markdown",
   "metadata": {},
   "source": [
    "### Custom Transformers in the Project"
   ]
  },
  {
   "cell_type": "markdown",
   "metadata": {},
   "source": [
    "#### 1. `MaritalStatusBinarizer`\n",
    "\n",
    "Converts the **marital-status** feature into a binary feature (1 for married, 0 for not married) to simplify analysis and modeling."
   ]
  },
  {
   "cell_type": "code",
   "execution_count": 11,
   "metadata": {},
   "outputs": [],
   "source": [
    "def binarize_marital_status(X):\n",
    "    mapping = {\n",
    "        'Married-civ-spouse': 1,\n",
    "        'Married-spouse-absent': 1,\n",
    "        'Married-AF-spouse': 1,\n",
    "        'Never-married': 0,\n",
    "        'Divorced': 0,\n",
    "        'Separated': 0,\n",
    "        'Widowed': 0\n",
    "    }\n",
    "\n",
    "    X = X.values.ravel() # ravel is used to go from (n_samples, 1) to (n_samples, ) and iterating through it is easier.\n",
    "\n",
    "    return np.array([[mapping.get(value, 0)] for value in X])\n",
    "\n",
    "# Pipeline for Marital Status\n",
    "pipeline_marital_status = Pipeline([\n",
    "    ('marital-status-binarizer', FunctionTransformer(binarize_marital_status, # Such an easy transformation can be done with FunctionTrasnformer\n",
    "    validate=False,\n",
    "))\n",
    "])\n"
   ]
  },
  {
   "cell_type": "markdown",
   "metadata": {},
   "source": [
    "#### 2. `CombineCapitalFeatures`\n",
    "\n",
    "Combines the **capital-gain** and **capital-loss** features into a single **net-capital** feature."
   ]
  },
  {
   "cell_type": "code",
   "execution_count": 12,
   "metadata": {},
   "outputs": [],
   "source": [
    "class CombineCapitalFeatures(BaseEstimator, TransformerMixin):\n",
    "    # Inheriting from TransformerMixin provides (among other things) a default implementation of fit_transform so we need to define both methods fit and trasnform.\n",
    "    def fit(self, X, y=None):\n",
    "        return self\n",
    "\n",
    "    def transform(self, X):\n",
    "        # Convert X into a NumPy array\n",
    "        X = np.asarray(X)\n",
    "        # Now X is a list of lists with two elements, e.g:\n",
    "        #[\n",
    "        #  [capital-gain1, capital-loss1],\n",
    "        #  [capital-gain2, capital-loss2],\n",
    "        #  ...\n",
    "        #]\n",
    "\n",
    "        # Compute net-capital (difference between gain and loss)\n",
    "        net_capital = X[:, 0] - X[:, 1]\n",
    "        # The syntax X[row_index, column_index] (or X[start:end, start:end] for slicing) is designed for matrix-style operations:\n",
    "        # X[:, 0] means \"all rows, first column\"\n",
    "        \n",
    "        # scikit-learn expects input and output arrays to be 2D\n",
    "        return net_capital.reshape(-1, 1) \n",
    "        #(-1, 1):\n",
    "        # The -1 means \"figure out the correct number of rows based on the size of the array.\"\n",
    "        # The 1 specifies that there should be exactly 1 column.\n",
    "\n",
    "# Pipeline for combining and scaling capital features\n",
    "pipeline_capital_features = Pipeline([\n",
    "    ('combine_capital', CombineCapitalFeatures()),\n",
    "    ('scaler', StandardScaler()), # I plotted this feature and it follows approximately a normal distribution so StandardScaler makes sense to use.\n",
    "])"
   ]
  },
  {
   "cell_type": "markdown",
   "metadata": {},
   "source": [
    "#### 3. `HoursBinner`\n",
    "\n",
    "Bins the **hours-per-week** feature into categories: Part-time, Full-time, and Overtime."
   ]
  },
  {
   "cell_type": "code",
   "execution_count": 13,
   "metadata": {},
   "outputs": [],
   "source": [
    "class HoursBinner(BaseEstimator, TransformerMixin):\n",
    "    def fit(self, X, y=None):\n",
    "        return self\n",
    "\n",
    "    def transform(self, X):\n",
    "        X = pd.Series(X.values.ravel()) # A Series is one column of a Dataframe\n",
    "        \n",
    "        # Define bins and labels\n",
    "        bins = [0, 30, 50, float('inf')]  # Inf handles any hours > 50\n",
    "        labels = ['Part-time', 'Full-time', 'Overtime']\n",
    "        # bins length is bigger than labels because it defined bounds for the intervals\n",
    "        # 0 < Part-time ≤ 30\n",
    "        # ≤30 because right=False\n",
    "\n",
    "        # Apply binning\n",
    "        binned = pd.cut(X, bins=bins, labels=labels, right=False)\n",
    "        \n",
    "        # Return as a 2D array\n",
    "        return np.array(binned).reshape(-1, 1)\n",
    "\n",
    "# Pipeline for Hours Binning\n",
    "pipeline_hours_binner = Pipeline([\n",
    "    ('binning', HoursBinner()),\n",
    "    ('onehot', OneHotEncoder())\n",
    "])\n"
   ]
  },
  {
   "cell_type": "markdown",
   "metadata": {},
   "source": [
    "#### 4. `CountryGrouper`\n",
    "\n",
    "Groups the **native-country** feature into broader regions (e.g., North America, Europe) to reduce the number of categories and simplify the model."
   ]
  },
  {
   "cell_type": "code",
   "execution_count": 14,
   "metadata": {},
   "outputs": [],
   "source": [
    "class CountryGrouper(BaseEstimator, TransformerMixin):\n",
    "    def fit(self, X, y=None):\n",
    "        return self\n",
    "\n",
    "    def transform(self, X):\n",
    "        # Flatten X to a 1D array for processing\n",
    "        X_flat = np.ravel(X)\n",
    "\n",
    "        # Apply mapping with a default value of \"Other\" for unknown countries\n",
    "        grouped = [country_mapping.get(country, 'Other') for country in X_flat]\n",
    " \n",
    "        # Return as a 2D array\n",
    "        return np.array(grouped).reshape(-1, 1)\n",
    "\n",
    "# Pipeline for Country Grouping and Encoding\n",
    "pipeline_country = Pipeline([\n",
    "    ('imputer', SimpleImputer(strategy='most_frequent')),\n",
    "    ('group', CountryGrouper()),\n",
    "    ('onehot', OneHotEncoder(handle_unknown='ignore'))\n",
    "])"
   ]
  },
  {
   "cell_type": "markdown",
   "metadata": {},
   "source": [
    "### Column Transformer"
   ]
  },
  {
   "cell_type": "markdown",
   "metadata": {},
   "source": [
    "We finish by creating the pipelines for the remaining features that have more than one transformation and defining the Column Transformer for **all** the features."
   ]
  },
  {
   "cell_type": "code",
   "execution_count": 15,
   "metadata": {},
   "outputs": [],
   "source": [
    "# Pipelines for the remaning features\n",
    "pipeline_workclass_occupation = Pipeline([\n",
    "    ('imputer', SimpleImputer(strategy='most_frequent')),\n",
    "    ('onehot', OneHotEncoder(handle_unknown='ignore'))\n",
    "])\n",
    "\n",
    "# Combine all pipelines in a ColumnTransformer\n",
    "preprocessor = ColumnTransformer(transformers=[\n",
    "    ('scaler', MinMaxScaler(), ['age', 'educational-num']),\n",
    "    ('workclass_occupation', pipeline_workclass_occupation, ['workclass', 'occupation']),\n",
    "    ('marital_status', pipeline_marital_status, ['marital-status']),\n",
    "    ('relationship_and_race', OneHotEncoder(handle_unknown='ignore'), ['relationship', 'race']),\n",
    "    ('gender', OneHotEncoder(drop=\"if_binary\"), ['gender']),\n",
    "    ('capital', pipeline_capital_features, ['capital-gain', 'capital-loss']),\n",
    "    ('hours_per_week', pipeline_hours_binner, ['hours-per-week']),\n",
    "    ('native_country', pipeline_country, ['native-country']),\n",
    "],\n",
    "remainder='drop',\n",
    "verbose_feature_names_out=False, # This is to avoid the verbose names that the ColumnTransformer generates\n",
    "sparse_threshold=0) # Dense matrices instead of sparse (KNN, PCA, etc. don't work with sparse matrices)"
   ]
  },
  {
   "cell_type": "markdown",
   "metadata": {},
   "source": [
    "## Training and test split"
   ]
  },
  {
   "cell_type": "markdown",
   "metadata": {},
   "source": [
    "Now, we can split the entire dataset into training and test sets, putting 20% of the instances in the test set. I will then binarize the income column into 0/1 values for clarity and compatibility."
   ]
  },
  {
   "cell_type": "code",
   "execution_count": 16,
   "metadata": {},
   "outputs": [],
   "source": [
    "X = df.drop(columns=['income'])\n",
    "y = df['income']\n",
    "\n",
    "X_train, X_test, y_train_orig, y_test_orig = train_test_split(X, y, test_size=0.2, random_state=42, stratify=y)\n",
    "# stratify=y Ensures that the class distribution in y is preserved in both the training and testing splits.\n",
    "\n",
    "lb = LabelBinarizer()\n",
    "# Because of lexicographical order, we will have 0 for <=50K and 1 for >50K\n",
    "y_train = lb.fit_transform(y_train_orig).ravel()\n",
    "y_test = lb.transform(y_test_orig).ravel()"
   ]
  },
  {
   "cell_type": "markdown",
   "metadata": {},
   "source": [
    "## Model example with KNN"
   ]
  },
  {
   "cell_type": "markdown",
   "metadata": {},
   "source": [
    "Before delving into cross-validation, this section provides an illustrative example of how a single machine learning model can be trained, tested, and evaluated using the K-Nearest Neighbors (KNN) algorithm.\n",
    "\n",
    "The following steps outline the process performed in the subsequent code cell:\n",
    "1. **Apply Fitting and Transformation**: Preprocess the input features `X` by applying necessary transformations to prepare the data for model training.\n",
    "\n",
    "2. **Create and Fit the Model**: Instantiate a KNN model and train it on the transformed training data. During this step, the hyperparameter `n_neighbors` can be tuned to observe its impact on performance later.\n",
    "\n",
    "3. **Make Predictions**: Use the trained model to predict the target variable for both the training and test datasets.\n",
    "\n",
    "4. **Evaluate Performance**: Measure the model's precission, recall and F1 score to assess its performance on both the training and test sets.\n",
    "\n",
    "5. **Analyze Performance**: Delve deeper into the model's performance by visualizing results using metrics like the confusion matrix, learning curve, ROC curve, and AUC score."
   ]
  },
  {
   "cell_type": "code",
   "execution_count": 17,
   "metadata": {},
   "outputs": [
    {
     "name": "stdout",
     "output_type": "stream",
     "text": [
      "Classification Report (Train Data):\n",
      "              precision    recall  f1-score   support\n",
      "\n",
      "           0       0.88      0.93      0.91     29724\n",
      "           1       0.74      0.60      0.66      9349\n",
      "\n",
      "    accuracy                           0.85     39073\n",
      "   macro avg       0.81      0.77      0.78     39073\n",
      "weighted avg       0.85      0.85      0.85     39073\n",
      "\n",
      "Classification Report (Test Data):\n",
      "              precision    recall  f1-score   support\n",
      "\n",
      "           0       0.88      0.93      0.91      7431\n",
      "           1       0.74      0.59      0.66      2338\n",
      "\n",
      "    accuracy                           0.85      9769\n",
      "   macro avg       0.81      0.76      0.78      9769\n",
      "weighted avg       0.85      0.85      0.85      9769\n",
      "\n"
     ]
    },
    {
     "data": {
      "image/png": "[encoded data removed]",
      "text/plain": [
       "<Figure size 1600x600 with 3 Axes>"
      ]
     },
     "metadata": {},
     "output_type": "display_data"
    },
    {
     "data": {
      "image/png": "[encoded data removed]",
      "text/plain": [
       "<Figure size 1200x600 with 2 Axes>"
      ]
     },
     "metadata": {},
     "output_type": "display_data"
    }
   ],
   "source": [
    "# 1) Preprocessing\n",
    "X_train_knn = preprocessor.fit_transform(X_train)\n",
    "X_test_knn = preprocessor.transform(X_test)\n",
    "\n",
    "# 2) Create and fit the K-Nearest Neighbors model\n",
    "model_knn = KNeighborsClassifier(n_neighbors=45)  # You can adjust `n_neighbors` to optimize performance\n",
    "model_knn.fit(X_train_knn, y_train)\n",
    "\n",
    "# 3) Make predictions on the training and test set\n",
    "y_train_pred_knn = model_knn.predict(X_train_knn)\n",
    "y_test_pred_knn = model_knn.predict(X_test_knn)\n",
    "\n",
    "# 4) Evaluate the performance on training and test data\n",
    "print(\"Classification Report (Train Data):\")\n",
    "print(classification_report(y_train, y_train_pred_knn))\n",
    "print(\"Classification Report (Test Data):\")\n",
    "print(classification_report(y_test, y_test_pred_knn))\n",
    "\n",
    "# 5) Analyze Performance\n",
    "# Assuming you have y_test and y_prob already\n",
    "y_prob = model_knn.predict_proba(X_test_knn)[:, 1]  # Predicted probabilities for class 1\n",
    "# KNN is not inherently a probabilistic model, but it can still output probabilities using neighbor voting.\n",
    "# scikit-learn estimates the probability of a sample belonging to each class based on the proportion of neighbors in that class.\n",
    "\n",
    "# Create subplots\n",
    "fig, axes = plt.subplots(1, 2, figsize=(16, 6))  # 1 row, 2 columns\n",
    "\n",
    "# Plot Confusion Matrix on the left\n",
    "ConfusionMatrixDisplay.from_estimator(model_knn, X_test_knn, y_test, cmap=plt.cm.Oranges, ax=axes[0])\n",
    "axes[0].set_title(\"Confusion Matrix for KNN\")\n",
    "\n",
    "# Plot Learning Curve on the right\n",
    "plot_learning_curve(model_knn, X_train_knn, y_train, ax=axes[1], title=\"Learning Curve for KNN\")\n",
    "\n",
    "# Adjust layout and show\n",
    "plt.tight_layout()\n",
    "plt.show()\n",
    "\n",
    "# Create a figure with subplots for inline plotting\n",
    "fig, axes = plt.subplots(1, 2, figsize=(12, 6))  # 1 row, 2 columns\n",
    "\n",
    "# Plot ROC Curve on the first axis\n",
    "plt.sca(axes[0])  # Set current axis for the ROC plot\n",
    "plot_roc_auc(y_test, y_prob, title=\"ROC Curve for KNN\")\n",
    "\n",
    "# Plot Precision-Recall Curve on the second axis\n",
    "plt.sca(axes[1])  # Set current axis for the Precision-Recall plot\n",
    "plot_precision_recall(y_test, y_prob, title=\"Precision-Recall Curve for KNN\")\n",
    "\n",
    "# Adjust layout to prevent overlap\n",
    "plt.tight_layout()\n",
    "plt.show()"
   ]
  },
  {
   "cell_type": "markdown",
   "metadata": {},
   "source": [
    "## Model Selection with Nested Cross-Validation\n"
   ]
  },
  {
   "cell_type": "markdown",
   "metadata": {},
   "source": [
    "This section focuses on selecting the best model and hyperparameters using **nested cross-validation**. By combining an *inner loop* for hyperparameter optimization and an *outer loop* for performance evaluation, this approach ensures a fair assessment of the model's generalization ability."
   ]
  },
  {
   "cell_type": "markdown",
   "metadata": {},
   "source": [
    "### Define possible configurations"
   ]
  },
  {
   "cell_type": "markdown",
   "metadata": {},
   "source": [
    "We define the base pipeline by using the KNN example model created before and its configurations. We are using `IMBPipeline` because it extends the scikit-learn pipeline with the ability to incorporate samplers for balancing classes."
   ]
  },
  {
   "cell_type": "code",
   "execution_count": 18,
   "metadata": {},
   "outputs": [],
   "source": [
    "# Define the base pipeline\n",
    "model_pipeline = IMBPipeline([  #IMB(alanced) pipeline allow us to add sampler configs\n",
    "    ('preprocessing', preprocessor),\n",
    "    ('sampler', None),\n",
    "    ('dim_reduction', None),\n",
    "    ('classifier', model_knn)\n",
    "])"
   ]
  },
  {
   "cell_type": "markdown",
   "metadata": {},
   "source": [
    "I defined the possible configurations under the `utils` section in the introduction for clarity and to keep the notebook clean, in this code cell we use itertools to form all the possible combinations of the different configurations defined before."
   ]
  },
  {
   "cell_type": "code",
   "execution_count": 19,
   "metadata": {},
   "outputs": [
    {
     "name": "stdout",
     "output_type": "stream",
     "text": [
      "Number of configurations: 36\n"
     ]
    }
   ],
   "source": [
    "# Combine all possible configurations\n",
    "all_configs = [\n",
    "    dict(itertools.chain(*(config.items() for config in combination)))  # Unpack all configurations into a single dictionary\n",
    "    for combination in itertools.product(sampler_configs, dim_reduction_configs, classifier_configs) # Cartesian product of all configurations\n",
    "]\n",
    "\n",
    "print(f\"Number of configurations: {len(all_configs)}\")"
   ]
  },
  {
   "cell_type": "markdown",
   "metadata": {},
   "source": [
    "### Execute the nested cross validation"
   ]
  },
  {
   "cell_type": "markdown",
   "metadata": {},
   "source": [
    "The `cross_validate` function from scikit-learn performs the outer cross-validation by splitting the dataset into 5 folds. For each fold, it passes the training data for that outer fold to RandomizedSearchCV.\n",
    "\n",
    "RandomizedSearchCV then performs its inner 2-fold cross-validation on the training data from the outer fold, testing different hyperparameter combinations and selecting the best ones for that specific outer fold.\n",
    "\n",
    "Finally, the model with the best hyperparameters (determined by the inner loop) is evaluated on the test data for the current outer fold, and the results are stored."
   ]
  },
  {
   "cell_type": "code",
   "execution_count": 20,
   "metadata": {},
   "outputs": [],
   "source": [
    "\n",
    "# Inner loop definition: RandomizedSearchCV with cv=2 which means 2-fold cross-validation\n",
    "rs = RandomizedSearchCV(\n",
    "    model_pipeline,\n",
    "    param_distributions=all_configs,\n",
    "    n_iter=len(all_configs) * 5,\n",
    "    random_state=42,\n",
    "    n_jobs=-1, # Use all available CPU cores\n",
    "    cv=2,\n",
    "    scoring='f1',\n",
    ")"
   ]
  },
  {
   "cell_type": "code",
   "execution_count": null,
   "metadata": {},
   "outputs": [
    {
     "name": "stdout",
     "output_type": "stream",
     "text": [
      "[CV] END ......................................., score=0.728 total time= 6.5min\n"
     ]
    }
   ],
   "source": [
    "# Define StratifiedKFold with 5 splits\n",
    "stratified_cv = StratifiedKFold(n_splits=5, shuffle=True, random_state=42)\n",
    "\n",
    "# Outer loop with cross-validation (~30mins)\n",
    "scores = cross_validate(\n",
    "    rs,\n",
    "    X_train,\n",
    "    y_train,\n",
    "    scoring='f1',\n",
    "    cv=stratified_cv,\n",
    "    return_estimator=True,\n",
    "    verbose=3,\n",
    ")"
   ]
  },
  {
   "cell_type": "markdown",
   "metadata": {},
   "source": [
    "We print the result for each fold:"
   ]
  },
  {
   "cell_type": "code",
   "execution_count": null,
   "metadata": {},
   "outputs": [
    {
     "name": "stdout",
     "output_type": "stream",
     "text": [
      "Classifier used:  GradientBoostingClassifier(max_depth=5, n_estimators=300) {'ccp_alpha': 0.0, 'criterion': 'friedman_mse', 'init': None, 'learning_rate': 0.1, 'loss': 'log_loss', 'max_depth': 5, 'max_features': None, 'max_leaf_nodes': None, 'min_impurity_decrease': 0.0, 'min_samples_leaf': 1, 'min_samples_split': 2, 'min_weight_fraction_leaf': 0.0, 'n_estimators': 300, 'n_iter_no_change': None, 'random_state': None, 'subsample': 1.0, 'tol': 0.0001, 'validation_fraction': 0.1, 'verbose': 0, 'warm_start': False}\n",
      "Sampler used:  RandomOverSampler(sampling_strategy=0.5)\n",
      "Dimensionality reduction used:  None\n",
      "Score obtained:  0.735140771637122\n",
      "--------------------------------------------------\n",
      "Classifier used:  GradientBoostingClassifier(max_depth=5, n_estimators=300) {'ccp_alpha': 0.0, 'criterion': 'friedman_mse', 'init': None, 'learning_rate': 0.1, 'loss': 'log_loss', 'max_depth': 5, 'max_features': None, 'max_leaf_nodes': None, 'min_impurity_decrease': 0.0, 'min_samples_leaf': 1, 'min_samples_split': 2, 'min_weight_fraction_leaf': 0.0, 'n_estimators': 300, 'n_iter_no_change': None, 'random_state': None, 'subsample': 1.0, 'tol': 0.0001, 'validation_fraction': 0.1, 'verbose': 0, 'warm_start': False}\n",
      "Sampler used:  RandomOverSampler(sampling_strategy=0.5)\n",
      "Dimensionality reduction used:  None\n",
      "Score obtained:  0.7303225806451613\n",
      "--------------------------------------------------\n",
      "Classifier used:  GradientBoostingClassifier(max_depth=5, n_estimators=300) {'ccp_alpha': 0.0, 'criterion': 'friedman_mse', 'init': None, 'learning_rate': 0.1, 'loss': 'log_loss', 'max_depth': 5, 'max_features': None, 'max_leaf_nodes': None, 'min_impurity_decrease': 0.0, 'min_samples_leaf': 1, 'min_samples_split': 2, 'min_weight_fraction_leaf': 0.0, 'n_estimators': 300, 'n_iter_no_change': None, 'random_state': None, 'subsample': 1.0, 'tol': 0.0001, 'validation_fraction': 0.1, 'verbose': 0, 'warm_start': False}\n",
      "Sampler used:  RandomOverSampler(sampling_strategy=0.5)\n",
      "Dimensionality reduction used:  None\n",
      "Score obtained:  0.7200208550573514\n",
      "--------------------------------------------------\n",
      "Classifier used:  GradientBoostingClassifier(max_depth=5, n_estimators=300) {'ccp_alpha': 0.0, 'criterion': 'friedman_mse', 'init': None, 'learning_rate': 0.1, 'loss': 'log_loss', 'max_depth': 5, 'max_features': None, 'max_leaf_nodes': None, 'min_impurity_decrease': 0.0, 'min_samples_leaf': 1, 'min_samples_split': 2, 'min_weight_fraction_leaf': 0.0, 'n_estimators': 300, 'n_iter_no_change': None, 'random_state': None, 'subsample': 1.0, 'tol': 0.0001, 'validation_fraction': 0.1, 'verbose': 0, 'warm_start': False}\n",
      "Sampler used:  SMOTE(sampling_strategy=1.0)\n",
      "Dimensionality reduction used:  None\n",
      "Score obtained:  0.7105930055752661\n",
      "--------------------------------------------------\n",
      "Classifier used:  GradientBoostingClassifier(max_depth=5, n_estimators=300) {'ccp_alpha': 0.0, 'criterion': 'friedman_mse', 'init': None, 'learning_rate': 0.1, 'loss': 'log_loss', 'max_depth': 5, 'max_features': None, 'max_leaf_nodes': None, 'min_impurity_decrease': 0.0, 'min_samples_leaf': 1, 'min_samples_split': 2, 'min_weight_fraction_leaf': 0.0, 'n_estimators': 300, 'n_iter_no_change': None, 'random_state': None, 'subsample': 1.0, 'tol': 0.0001, 'validation_fraction': 0.1, 'verbose': 0, 'warm_start': False}\n",
      "Sampler used:  RandomOverSampler(sampling_strategy=0.5)\n",
      "Dimensionality reduction used:  None\n",
      "Score obtained:  0.7258869908015769\n",
      "--------------------------------------------------\n"
     ]
    }
   ],
   "source": [
    "for index, estimator in enumerate(scores['estimator']):\n",
    "    print('Classifier used: ', estimator.best_estimator_.get_params()['classifier'],estimator.best_estimator_.get_params()['classifier'].get_params())\n",
    "    print('Sampler used: ', estimator.best_estimator_.get_params()['sampler'])\n",
    "    print('Dimensionality reduction used: ', estimator.best_estimator_.get_params()['dim_reduction'])\n",
    "    print('Score obtained (F1): ', scores['test_score'][index])\n",
    "    print('-'*50)"
   ]
  },
  {
   "cell_type": "markdown",
   "metadata": {},
   "source": [
    "To further reduce the number of candidates, we re-train the models on the entire training set and evaluate their performance on the test set to select our best candidate"
   ]
  },
  {
   "cell_type": "code",
   "execution_count": 160,
   "metadata": {},
   "outputs": [
    {
     "name": "stdout",
     "output_type": "stream",
     "text": [
      "F1 on training set: 0.758, F1 on test set: 0.727\n",
      "F1 on training set: 0.760, F1 on test set: 0.728\n",
      "F1 on training set: 0.760, F1 on test set: 0.727\n",
      "F1 on training set: 0.750, F1 on test set: 0.724\n",
      "F1 on training set: 0.762, F1 on test set: 0.729\n"
     ]
    }
   ],
   "source": [
    "for estimator in scores['estimator']:\n",
    "    best_model = estimator.best_estimator_.fit(X_train, y_train)\n",
    "    \n",
    "    # Make predictions on training and test sets\n",
    "    pred_train = best_model.predict(X_train)\n",
    "    pred_test = best_model.predict(X_test)\n",
    "    \n",
    "    # Compute F1 scores\n",
    "    f1_train = f1_score(y_train, pred_train)\n",
    "    f1_test = f1_score(y_test, pred_test)\n",
    "    \n",
    "    # Print results\n",
    "    print(f'F1 on training set: {f1_train:.3f}, F1 on test set: {f1_test:.3f}')"
   ]
  },
  {
   "cell_type": "markdown",
   "metadata": {},
   "source": [
    "### Refinement of the selected model\n"
   ]
  },
  {
   "cell_type": "markdown",
   "metadata": {},
   "source": [
    "From the previous step, we have identified one of the best candidate models. In this final step, we refine the hyperparameter optimization by keeping the modeling approach fixed and varying the hyperparameters within a range close to those of the selected \"best\" model."
   ]
  },
  {
   "cell_type": "code",
   "execution_count": 161,
   "metadata": {},
   "outputs": [
    {
     "name": "stdout",
     "output_type": "stream",
     "text": [
      "Final Accuracy on Test Set: 0.868\n",
      "Final Precision on Test Set: 0.719\n",
      "Final F1 Score on Test Set: 0.726\n",
      "Best Hyperparameters: {'classifier__n_estimators': 200, 'classifier__max_depth': 5}\n"
     ]
    }
   ],
   "source": [
    "# Define the pipeline with the best model configuration\n",
    "best_model_pipeline = IMBPipeline([\n",
    "    ('preprocessor', preprocessor),\n",
    "    ('sampler', RandomOverSampler(sampling_strategy=0.5)),  # Include the sampler used in the best model.\n",
    "    ('classifier', GradientBoostingClassifier()) # Of course the same classifier as well.\n",
    "    # Dimentionality reduction is None on the best estimator, thus we skip it.\n",
    "])\n",
    "\n",
    "params = {\n",
    "    'classifier__n_estimators': [100, 200, 300],  # Number of trees in the ensemble\n",
    "    'classifier__max_depth': [3, 5],  # Maximum depth of each tree\n",
    "}\n",
    "\n",
    "# Perform RandomizedSearchCV\n",
    "rs_best = RandomizedSearchCV(\n",
    "    estimator=best_model_pipeline,\n",
    "    param_distributions=params,\n",
    "    cv=RepeatedStratifiedKFold(n_splits=5, n_repeats=1),\n",
    "    n_iter=5,  # Number of random samples\n",
    "    scoring='f1',\n",
    "    n_jobs=-1,\n",
    ")\n",
    "\n",
    "# Fit the model\n",
    "rs_best.fit(X_train, y_train)\n",
    "\n",
    "# Evaluate on the test set\n",
    "y_test_pred = rs_best.best_estimator_.predict(X_test)\n",
    "\n",
    "# Compute metrics\n",
    "final_f1 = f1_score(y_test, y_test_pred)\n",
    "final_precision = precision_score(y_test, y_test_pred)\n",
    "final_accuracy = accuracy_score(y_test, y_test_pred)\n",
    "\n",
    "# Print results\n",
    "print(f\"Final Accuracy on Test Set: {final_accuracy:.3f}\")\n",
    "print(f\"Final Precision on Test Set: {final_precision:.3f}\")\n",
    "print(f\"Final F1 Score on Test Set: {final_f1:.3f}\")\n",
    "\n",
    "# Display the best parameters\n",
    "print(\"Best Hyperparameters:\", rs_best.best_params_)\n"
   ]
  },
  {
   "cell_type": "markdown",
   "metadata": {},
   "source": [
    "We have found the best model out of our configurations after cross validation and hyperparameter tunning: `Gradient Boosting Classifier` model with 200 trees and max_depth=5."
   ]
  },
  {
   "cell_type": "markdown",
   "metadata": {},
   "source": [
    "### Learning and Validation curves"
   ]
  },
  {
   "cell_type": "markdown",
   "metadata": {},
   "source": [
    "In this section, we will plot two functions to analyze the performance of the Gradient Boosting model. First, we will plot the learning curve to observe how varying the size of the training set impacts the model's performance on both the training and validation data. This will help us understand whether the model is underfitting, overfitting, or well-balanced. Next, we will plot the validation curve to examine how changing the number of trees (`n_estimators`) affects the model's performance, providing insights into the bias-variance trade-off and helping us determine an optimal range for this critical hyperparameter."
   ]
  },
  {
   "cell_type": "code",
   "execution_count": null,
   "metadata": {},
   "outputs": [],
   "source": [
    "from sklearn.ensemble import GradientBoostingClassifier\n",
    "from sklearn.model_selection import RepeatedStratifiedKFold\n",
    "\n",
    "# Preprocessing\n",
    "X_train_final = preprocessor.fit_transform(X_train)\n",
    "\n",
    "# Define the model and cross-validator\n",
    "model = GradientBoostingClassifier(n_estimators=200, max_depth=5)\n",
    "cv = RepeatedStratifiedKFold(n_splits=5, n_repeats=1, random_state=42)\n",
    "\n",
    "# Define the range for the validation curve\n",
    "param_range = [50, 150, 300]\n",
    "\n",
    "# Create subplots\n",
    "fig, axes = plt.subplots(1, 2, figsize=(16, 6))\n",
    "\n",
    "# Plot the learning curve on the first axis\n",
    "plot_learning_curve(\n",
    "    estimator=model,\n",
    "    X=X_train_final,\n",
    "    y=y_train,\n",
    "    ax=axes[0],\n",
    "    title=\"Learning Curve for Gradient Boosting\",\n",
    "    cv=cv,\n",
    ")\n",
    "\n",
    "# Plot the validation curve on the second axis\n",
    "plot_validation_curve(\n",
    "    estimator=model,\n",
    "    X=X_train_final,\n",
    "    y=y_train,\n",
    "    param_name=\"n_estimators\",\n",
    "    param_range=param_range,\n",
    "    cv=cv,\n",
    "    scoring=\"f1\",\n",
    "    ax=axes[1],\n",
    "    title=\"Validation Curve for Gradient Boosting (n_estimators)\"\n",
    ")\n",
    "\n",
    "# Show the plots\n",
    "plt.tight_layout()\n",
    "plt.show()"
   ]
  },
  {
   "cell_type": "markdown",
   "metadata": {},
   "source": [
    "### Conclusion"
   ]
  },
  {
   "cell_type": "markdown",
   "metadata": {},
   "source": [
    "The **learning curve** for Gradient Boosting demonstrates how the model's performance changes with varying training set sizes. The training score (blue line) decreases as the training set size increases, which is expected as the model encounters more diverse data and is less able to perfectly fit all training samples. On the other hand, the cross-validation score (orange line) steadily improves and begins to plateau as the training set size grows, indicating that the model benefits from more data to generalize better. The narrowing gap between the training and cross-validation scores suggests a reduction in overfitting as the dataset size increases, leading to improved model generalization. This analysis highlights the importance of using a sufficiently large training set to balance bias and variance in the model's performance."
   ]
  },
  {
   "cell_type": "markdown",
   "metadata": {},
   "source": [
    "The **validation curve** illustrates the performance of the Gradient Boosting model as the number of trees (`n_estimators`) increases. The training score (blue line) steadily improves with additional trees, which is expected as the model fits the training data better. Meanwhile, the validation score (orange line) plateaus after approximately 150 trees, indicating diminishing returns in generalization performance. The relatively small gap between the training and validation scores suggests that the model is not overfitting significantly within this range. This analysis indicates that setting n_estimators between 100 and 150 provides a good balance between model complexity and generalization, avoiding unnecessary computational cost from adding too many trees."
   ]
  }
 ],
 "metadata": {
  "kernelspec": {
   "display_name": "venv",
   "language": "python",
   "name": "python3"
  },
  "language_info": {
   "codemirror_mode": {
    "name": "ipython",
    "version": 3
   },
   "file_extension": ".py",
   "mimetype": "text/x-python",
   "name": "python",
   "nbconvert_exporter": "python",
   "pygments_lexer": "ipython3",
   "version": "3.10.3"
  }
 },
 "nbformat": 4,
 "nbformat_minor": 2
}
